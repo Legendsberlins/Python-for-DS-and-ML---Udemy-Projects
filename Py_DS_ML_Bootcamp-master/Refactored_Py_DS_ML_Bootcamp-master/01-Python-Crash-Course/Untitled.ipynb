{
 "cells": [
  {
   "cell_type": "code",
   "execution_count": 7,
   "id": "608a7d9f-47a0-429e-ab78-884621a011d8",
   "metadata": {},
   "outputs": [
    {
     "name": "stdout",
     "output_type": "stream",
     "text": [
      "Hey\n"
     ]
    }
   ],
   "source": [
    "print(\"Hey\")"
   ]
  },
  {
   "cell_type": "code",
   "execution_count": 9,
   "id": "e3c8dfb0-4688-4c90-b75c-944d39a3f2e0",
   "metadata": {},
   "outputs": [
    {
     "name": "stdout",
     "output_type": "stream",
     "text": [
      "Dano\n"
     ]
    }
   ],
   "source": [
    "print(\"Dano\")"
   ]
  },
  {
   "cell_type": "code",
   "execution_count": null,
   "id": "9ff4ae96-98e5-43e5-8dac-8a57983f16a1",
   "metadata": {},
   "outputs": [],
   "source": []
  }
 ],
 "metadata": {
  "kernelspec": {
   "display_name": "Python [conda env:base] *",
   "language": "python",
   "name": "conda-base-py"
  },
  "language_info": {
   "codemirror_mode": {
    "name": "ipython",
    "version": 3
   },
   "file_extension": ".py",
   "mimetype": "text/x-python",
   "name": "python",
   "nbconvert_exporter": "python",
   "pygments_lexer": "ipython3",
   "version": "3.12.7"
  }
 },
 "nbformat": 4,
 "nbformat_minor": 5
}
