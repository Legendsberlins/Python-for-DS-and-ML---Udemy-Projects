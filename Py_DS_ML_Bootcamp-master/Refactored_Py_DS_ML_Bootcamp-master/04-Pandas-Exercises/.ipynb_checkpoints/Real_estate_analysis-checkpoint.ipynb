{
 "cells": [
  {
   "cell_type": "code",
   "execution_count": 1,
   "id": "a6bb3e0b-00c9-4a2c-bc89-bf7b5f9855ad",
   "metadata": {},
   "outputs": [],
   "source": [
    "import pandas as pd"
   ]
  },
  {
   "cell_type": "code",
   "execution_count": 53,
   "id": "14052d63-8d09-4a0f-8303-53faf8ea8f33",
   "metadata": {},
   "outputs": [],
   "source": [
    "df = pd.read_excel('Real_Estate_Data_Analytics.xlsx')\n",
    "df_2 = pd.read_excel('Real_Estate_Data_Analytics.xlsx', sheet_name = 'Product Inventory & Pricing')"
   ]
  },
  {
   "cell_type": "code",
   "execution_count": 54,
   "id": "40eaf552-ccb4-4273-8559-8a7953fe5a0b",
   "metadata": {},
   "outputs": [
    {
     "data": {
      "text/html": [
       "<div>\n",
       "<style scoped>\n",
       "    .dataframe tbody tr th:only-of-type {\n",
       "        vertical-align: middle;\n",
       "    }\n",
       "\n",
       "    .dataframe tbody tr th {\n",
       "        vertical-align: top;\n",
       "    }\n",
       "\n",
       "    .dataframe thead th {\n",
       "        text-align: right;\n",
       "    }\n",
       "</style>\n",
       "<table border=\"1\" class=\"dataframe\">\n",
       "  <thead>\n",
       "    <tr style=\"text-align: right;\">\n",
       "      <th></th>\n",
       "      <th>Customer Name</th>\n",
       "      <th>Product Type Purchased</th>\n",
       "      <th>Quantity Purchased</th>\n",
       "      <th>Amount Paid</th>\n",
       "      <th>Country</th>\n",
       "      <th>Sales Person</th>\n",
       "    </tr>\n",
       "  </thead>\n",
       "  <tbody>\n",
       "    <tr>\n",
       "      <th>0</th>\n",
       "      <td>Customer 1</td>\n",
       "      <td>Villa</td>\n",
       "      <td>1</td>\n",
       "      <td>351119.25</td>\n",
       "      <td>USA</td>\n",
       "      <td>Chris Johnson</td>\n",
       "    </tr>\n",
       "    <tr>\n",
       "      <th>1</th>\n",
       "      <td>Customer 2</td>\n",
       "      <td>Commercial Space</td>\n",
       "      <td>5</td>\n",
       "      <td>1431865.75</td>\n",
       "      <td>South Africa</td>\n",
       "      <td>Chris Johnson</td>\n",
       "    </tr>\n",
       "    <tr>\n",
       "      <th>2</th>\n",
       "      <td>Customer 3</td>\n",
       "      <td>Commercial Space</td>\n",
       "      <td>2</td>\n",
       "      <td>38465.10</td>\n",
       "      <td>Kenya</td>\n",
       "      <td>Jane Smith</td>\n",
       "    </tr>\n",
       "    <tr>\n",
       "      <th>3</th>\n",
       "      <td>Customer 4</td>\n",
       "      <td>Apartment</td>\n",
       "      <td>2</td>\n",
       "      <td>718575.73</td>\n",
       "      <td>South Africa</td>\n",
       "      <td>Jane Smith</td>\n",
       "    </tr>\n",
       "    <tr>\n",
       "      <th>4</th>\n",
       "      <td>Customer 5</td>\n",
       "      <td>Apartment</td>\n",
       "      <td>3</td>\n",
       "      <td>552330.63</td>\n",
       "      <td>UAE</td>\n",
       "      <td>John Doe</td>\n",
       "    </tr>\n",
       "  </tbody>\n",
       "</table>\n",
       "</div>"
      ],
      "text/plain": [
       "  Customer Name Product Type Purchased  Quantity Purchased  Amount Paid  \\\n",
       "0    Customer 1                  Villa                   1    351119.25   \n",
       "1    Customer 2       Commercial Space                   5   1431865.75   \n",
       "2    Customer 3       Commercial Space                   2     38465.10   \n",
       "3    Customer 4              Apartment                   2    718575.73   \n",
       "4    Customer 5              Apartment                   3    552330.63   \n",
       "\n",
       "        Country   Sales Person  \n",
       "0           USA  Chris Johnson  \n",
       "1  South Africa  Chris Johnson  \n",
       "2         Kenya     Jane Smith  \n",
       "3  South Africa     Jane Smith  \n",
       "4           UAE       John Doe  "
      ]
     },
     "execution_count": 54,
     "metadata": {},
     "output_type": "execute_result"
    }
   ],
   "source": [
    "df.head()"
   ]
  },
  {
   "cell_type": "markdown",
   "id": "324ee673-2889-4126-b22a-0fd0b1f03d02",
   "metadata": {},
   "source": [
    "### Identify the top 3 most purchased product types"
   ]
  },
  {
   "cell_type": "code",
   "execution_count": 58,
   "id": "d9a53e3a-9366-4870-b2d3-3d673b7abb39",
   "metadata": {},
   "outputs": [
    {
     "data": {
      "text/plain": [
       "Product Type Purchased\n",
       "Villa            185\n",
       "Terrace House    169\n",
       "Apartment        167\n",
       "Name: count, dtype: int64"
      ]
     },
     "execution_count": 58,
     "metadata": {},
     "output_type": "execute_result"
    }
   ],
   "source": [
    "df['Product Type Purchased'].value_counts().head(3)"
   ]
  },
  {
   "cell_type": "markdown",
   "id": "291b1503-aa83-4f47-b87f-6dec980b384b",
   "metadata": {},
   "source": [
    "### Most effective sales person"
   ]
  },
  {
   "cell_type": "code",
   "execution_count": 63,
   "id": "78a021d4-98b1-4866-ac92-2c5287c2050e",
   "metadata": {},
   "outputs": [
    {
     "data": {
      "text/html": [
       "<div>\n",
       "<style scoped>\n",
       "    .dataframe tbody tr th:only-of-type {\n",
       "        vertical-align: middle;\n",
       "    }\n",
       "\n",
       "    .dataframe tbody tr th {\n",
       "        vertical-align: top;\n",
       "    }\n",
       "\n",
       "    .dataframe thead th {\n",
       "        text-align: right;\n",
       "    }\n",
       "</style>\n",
       "<table border=\"1\" class=\"dataframe\">\n",
       "  <thead>\n",
       "    <tr style=\"text-align: right;\">\n",
       "      <th></th>\n",
       "      <th>Sales Person</th>\n",
       "      <th>Amount Paid</th>\n",
       "    </tr>\n",
       "  </thead>\n",
       "  <tbody>\n",
       "    <tr>\n",
       "      <th>0</th>\n",
       "      <td>Chris Johnson</td>\n",
       "      <td>1.198684e+08</td>\n",
       "    </tr>\n",
       "    <tr>\n",
       "      <th>1</th>\n",
       "      <td>Jane Smith</td>\n",
       "      <td>9.842566e+07</td>\n",
       "    </tr>\n",
       "    <tr>\n",
       "      <th>2</th>\n",
       "      <td>John Doe</td>\n",
       "      <td>1.249795e+08</td>\n",
       "    </tr>\n",
       "    <tr>\n",
       "      <th>3</th>\n",
       "      <td>Laura Wilson</td>\n",
       "      <td>1.036186e+08</td>\n",
       "    </tr>\n",
       "    <tr>\n",
       "      <th>4</th>\n",
       "      <td>Michael Brown</td>\n",
       "      <td>1.170992e+08</td>\n",
       "    </tr>\n",
       "  </tbody>\n",
       "</table>\n",
       "</div>"
      ],
      "text/plain": [
       "    Sales Person   Amount Paid\n",
       "0  Chris Johnson  1.198684e+08\n",
       "1     Jane Smith  9.842566e+07\n",
       "2       John Doe  1.249795e+08\n",
       "3   Laura Wilson  1.036186e+08\n",
       "4  Michael Brown  1.170992e+08"
      ]
     },
     "execution_count": 63,
     "metadata": {},
     "output_type": "execute_result"
    }
   ],
   "source": [
    "df.groupby('Sales Person')['Amount Paid'].sum().reset_index()"
   ]
  },
  {
   "cell_type": "markdown",
   "id": "bbb16037-c7ff-42e3-b61e-7bb3b4ce8fe1",
   "metadata": {},
   "source": [
    "### Total Revenue from all sales"
   ]
  },
  {
   "cell_type": "code",
   "execution_count": 66,
   "id": "bff0f9ff-bf0a-4a6b-91ee-7f97470bbdf3",
   "metadata": {},
   "outputs": [
    {
     "data": {
      "text/plain": [
       "563991410.8000001"
      ]
     },
     "execution_count": 66,
     "metadata": {},
     "output_type": "execute_result"
    }
   ],
   "source": [
    "df['Amount Paid'].sum()"
   ]
  },
  {
   "cell_type": "code",
   "execution_count": 78,
   "id": "5bf371cd-0b81-4a91-a061-f1d6a3bd132e",
   "metadata": {},
   "outputs": [
    {
     "data": {
      "text/html": [
       "<div>\n",
       "<style scoped>\n",
       "    .dataframe tbody tr th:only-of-type {\n",
       "        vertical-align: middle;\n",
       "    }\n",
       "\n",
       "    .dataframe tbody tr th {\n",
       "        vertical-align: top;\n",
       "    }\n",
       "\n",
       "    .dataframe thead th {\n",
       "        text-align: right;\n",
       "    }\n",
       "</style>\n",
       "<table border=\"1\" class=\"dataframe\">\n",
       "  <thead>\n",
       "    <tr style=\"text-align: right;\">\n",
       "      <th></th>\n",
       "      <th>Product Type</th>\n",
       "      <th>Available Quantity</th>\n",
       "      <th>Invoice Amount</th>\n",
       "      <th>Cost</th>\n",
       "    </tr>\n",
       "  </thead>\n",
       "  <tbody>\n",
       "    <tr>\n",
       "      <th>0</th>\n",
       "      <td>Land</td>\n",
       "      <td>910</td>\n",
       "      <td>494860.93</td>\n",
       "      <td>406090.23</td>\n",
       "    </tr>\n",
       "    <tr>\n",
       "      <th>1</th>\n",
       "      <td>Apartment</td>\n",
       "      <td>615</td>\n",
       "      <td>305732.80</td>\n",
       "      <td>250208.17</td>\n",
       "    </tr>\n",
       "    <tr>\n",
       "      <th>2</th>\n",
       "      <td>Commercial Space</td>\n",
       "      <td>940</td>\n",
       "      <td>401474.79</td>\n",
       "      <td>326980.46</td>\n",
       "    </tr>\n",
       "    <tr>\n",
       "      <th>3</th>\n",
       "      <td>Villa</td>\n",
       "      <td>605</td>\n",
       "      <td>352381.48</td>\n",
       "      <td>298507.96</td>\n",
       "    </tr>\n",
       "    <tr>\n",
       "      <th>4</th>\n",
       "      <td>Duplex</td>\n",
       "      <td>590</td>\n",
       "      <td>118258.07</td>\n",
       "      <td>103983.70</td>\n",
       "    </tr>\n",
       "    <tr>\n",
       "      <th>5</th>\n",
       "      <td>Terrace House</td>\n",
       "      <td>410</td>\n",
       "      <td>335581.41</td>\n",
       "      <td>282944.36</td>\n",
       "    </tr>\n",
       "  </tbody>\n",
       "</table>\n",
       "</div>"
      ],
      "text/plain": [
       "       Product Type  Available Quantity  Invoice Amount       Cost\n",
       "0              Land                 910       494860.93  406090.23\n",
       "1         Apartment                 615       305732.80  250208.17\n",
       "2  Commercial Space                 940       401474.79  326980.46\n",
       "3             Villa                 605       352381.48  298507.96\n",
       "4            Duplex                 590       118258.07  103983.70\n",
       "5     Terrace House                 410       335581.41  282944.36"
      ]
     },
     "execution_count": 78,
     "metadata": {},
     "output_type": "execute_result"
    }
   ],
   "source": [
    "df_2"
   ]
  },
  {
   "cell_type": "markdown",
   "id": "6e9fad43-4afb-4dad-abdf-ea77f8d83fbb",
   "metadata": {},
   "source": [
    "### Compare the cost to the Invoice amount and check who has the highest profitability"
   ]
  },
  {
   "cell_type": "code",
   "execution_count": 90,
   "id": "4c1d6550-73d6-4afb-9199-20a3089e5195",
   "metadata": {},
   "outputs": [],
   "source": [
    "df_2['Profitability'] = df_2['Invoice Amount'] - df_2['Cost']"
   ]
  },
  {
   "cell_type": "code",
   "execution_count": 92,
   "id": "2ff26845-0563-42f2-a8f2-f11e99df60fd",
   "metadata": {},
   "outputs": [
    {
     "data": {
      "text/plain": [
       "0    88770.70\n",
       "1    55524.63\n",
       "2    74494.33\n",
       "3    53873.52\n",
       "4    14274.37\n",
       "5    52637.05\n",
       "Name: Profitability, dtype: float64"
      ]
     },
     "execution_count": 92,
     "metadata": {},
     "output_type": "execute_result"
    }
   ],
   "source": [
    "df_2['Profitability'].head(6)"
   ]
  },
  {
   "cell_type": "code",
   "execution_count": 94,
   "id": "729091de-0b13-4151-a3a0-a5eda3ad13bc",
   "metadata": {},
   "outputs": [
    {
     "data": {
      "text/plain": [
       "Product Type               Land\n",
       "Available Quantity          910\n",
       "Invoice Amount        494860.93\n",
       "Cost                  406090.23\n",
       "Profitability           88770.7\n",
       "Name: 0, dtype: object"
      ]
     },
     "execution_count": 94,
     "metadata": {},
     "output_type": "execute_result"
    }
   ],
   "source": [
    "df_2.loc[df_2['Profitability'].idxmax()]"
   ]
  },
  {
   "cell_type": "markdown",
   "id": "626cb06b-4d1f-4d16-8293-9e68ff372326",
   "metadata": {},
   "source": [
    "### Identify customers who made the highest payment"
   ]
  },
  {
   "cell_type": "code",
   "execution_count": 60,
   "id": "baebc6d5-5c3b-4894-a8fa-b3b3cc5ecb81",
   "metadata": {},
   "outputs": [
    {
     "data": {
      "text/plain": [
       "249    Jane Smith\n",
       "Name: Sales Person, dtype: object"
      ]
     },
     "execution_count": 60,
     "metadata": {},
     "output_type": "execute_result"
    }
   ],
   "source": [
    "df[df['Amount Paid'] == 2372254.16]['Sales Person'] # First method"
   ]
  },
  {
   "cell_type": "code",
   "execution_count": 97,
   "id": "7be9fff8-5a99-437c-8d65-c54182f5343a",
   "metadata": {},
   "outputs": [
    {
     "data": {
      "text/plain": [
       "Customer Name             Customer 250\n",
       "Product Type Purchased            Land\n",
       "Quantity Purchased                   5\n",
       "Amount Paid                 2372254.16\n",
       "Country                   South Africa\n",
       "Sales Person                Jane Smith\n",
       "profitability                      NaN\n",
       "Name: 249, dtype: object"
      ]
     },
     "execution_count": 97,
     "metadata": {},
     "output_type": "execute_result"
    }
   ],
   "source": [
    "df.loc[df['Amount Paid'].idxmax()] # Second method"
   ]
  },
  {
   "cell_type": "code",
   "execution_count": null,
   "id": "ebc20511-c797-4072-b6fb-0b7cc6af9ce5",
   "metadata": {},
   "outputs": [],
   "source": []
  }
 ],
 "metadata": {
  "kernelspec": {
   "display_name": "Python [conda env:base] *",
   "language": "python",
   "name": "conda-base-py"
  },
  "language_info": {
   "codemirror_mode": {
    "name": "ipython",
    "version": 3
   },
   "file_extension": ".py",
   "mimetype": "text/x-python",
   "name": "python",
   "nbconvert_exporter": "python",
   "pygments_lexer": "ipython3",
   "version": "3.12.7"
  }
 },
 "nbformat": 4,
 "nbformat_minor": 5
}
