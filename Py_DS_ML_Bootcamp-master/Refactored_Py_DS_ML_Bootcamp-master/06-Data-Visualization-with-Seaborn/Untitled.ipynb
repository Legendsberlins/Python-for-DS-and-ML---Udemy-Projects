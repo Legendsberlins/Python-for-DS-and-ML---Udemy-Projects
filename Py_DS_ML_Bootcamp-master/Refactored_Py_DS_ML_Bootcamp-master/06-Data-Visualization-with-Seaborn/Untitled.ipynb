{
 "cells": [
  {
   "cell_type": "code",
   "execution_count": 1,
   "id": "5e1ddaf9-4eb6-450b-8022-1471b4ed5f4a",
   "metadata": {},
   "outputs": [],
   "source": [
    "import pandas as pd"
   ]
  },
  {
   "cell_type": "code",
   "execution_count": 3,
   "id": "e0e4cbd5-29ca-4d74-b376-a770503ce802",
   "metadata": {},
   "outputs": [],
   "source": [
    "patient = pd.read_csv('form.patientinfo.csv')"
   ]
  },
  {
   "cell_type": "code",
   "execution_count": 5,
   "id": "f10dd3cc-f3ff-4775-b2be-ddaaf2b9b261",
   "metadata": {},
   "outputs": [
    {
     "data": {
      "text/html": [
       "<div>\n",
       "<style scoped>\n",
       "    .dataframe tbody tr th:only-of-type {\n",
       "        vertical-align: middle;\n",
       "    }\n",
       "\n",
       "    .dataframe tbody tr th {\n",
       "        vertical-align: top;\n",
       "    }\n",
       "\n",
       "    .dataframe thead th {\n",
       "        text-align: right;\n",
       "    }\n",
       "</style>\n",
       "<table border=\"1\" class=\"dataframe\">\n",
       "  <thead>\n",
       "    <tr style=\"text-align: right;\">\n",
       "      <th></th>\n",
       "      <th>id</th>\n",
       "      <th>user</th>\n",
       "      <th>first_name</th>\n",
       "      <th>last_name</th>\n",
       "      <th>date_time</th>\n",
       "      <th>referral</th>\n",
       "      <th>address</th>\n",
       "      <th>pharmacy</th>\n",
       "      <th>age</th>\n",
       "    </tr>\n",
       "  </thead>\n",
       "  <tbody>\n",
       "    <tr>\n",
       "      <th>0</th>\n",
       "      <td>43</td>\n",
       "      <td>martin-c32eaf</td>\n",
       "      <td>Martin</td>\n",
       "      <td>Akpan</td>\n",
       "      <td>2025-05-05 20:37:00+00:00</td>\n",
       "      <td>pharmacy</td>\n",
       "      <td>15 Okon Essien Lane</td>\n",
       "      <td>Amela</td>\n",
       "      <td>67</td>\n",
       "    </tr>\n",
       "  </tbody>\n",
       "</table>\n",
       "</div>"
      ],
      "text/plain": [
       "   id           user first_name last_name                  date_time  \\\n",
       "0  43  martin-c32eaf     Martin     Akpan  2025-05-05 20:37:00+00:00   \n",
       "\n",
       "   referral              address pharmacy  age  \n",
       "0  pharmacy  15 Okon Essien Lane    Amela   67  "
      ]
     },
     "execution_count": 5,
     "metadata": {},
     "output_type": "execute_result"
    }
   ],
   "source": [
    "patient"
   ]
  },
  {
   "cell_type": "code",
   "execution_count": 7,
   "id": "f343714b-7292-4320-b265-9d437b41594b",
   "metadata": {},
   "outputs": [
    {
     "data": {
      "text/plain": [
       "id            1\n",
       "user          1\n",
       "first_name    1\n",
       "last_name     1\n",
       "date_time     1\n",
       "referral      1\n",
       "address       1\n",
       "pharmacy      1\n",
       "age           1\n",
       "dtype: int64"
      ]
     },
     "execution_count": 7,
     "metadata": {},
     "output_type": "execute_result"
    }
   ],
   "source": [
    "patient.count()"
   ]
  },
  {
   "cell_type": "code",
   "execution_count": 9,
   "id": "aef8f1a3-1fb2-41aa-ae31-f96209986dff",
   "metadata": {},
   "outputs": [
    {
     "data": {
      "text/plain": [
       "67.0"
      ]
     },
     "execution_count": 9,
     "metadata": {},
     "output_type": "execute_result"
    }
   ],
   "source": [
    "patient['age'].mean()"
   ]
  },
  {
   "cell_type": "code",
   "execution_count": null,
   "id": "6eb7805e-74dd-4a63-afb4-260899a6e1a3",
   "metadata": {},
   "outputs": [],
   "source": []
  }
 ],
 "metadata": {
  "kernelspec": {
   "display_name": "Python [conda env:base] *",
   "language": "python",
   "name": "conda-base-py"
  },
  "language_info": {
   "codemirror_mode": {
    "name": "ipython",
    "version": 3
   },
   "file_extension": ".py",
   "mimetype": "text/x-python",
   "name": "python",
   "nbconvert_exporter": "python",
   "pygments_lexer": "ipython3",
   "version": "3.12.7"
  }
 },
 "nbformat": 4,
 "nbformat_minor": 5
}
