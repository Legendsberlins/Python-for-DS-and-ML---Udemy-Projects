{
 "cells": [
  {
   "cell_type": "markdown",
   "id": "67e49f33-eeeb-4354-9040-5b70e85f026b",
   "metadata": {},
   "source": [
    "# KNN "
   ]
  },
  {
   "cell_type": "markdown",
   "id": "f15c05a4-7f29-405d-b623-fa2c3ae16f73",
   "metadata": {},
   "source": [
    "KNN is a classification algorithm that operates on a very simple principle."
   ]
  },
  {
   "cell_type": "markdown",
   "id": "0b76a853-babb-4b54-9151-f59f06588d5d",
   "metadata": {},
   "source": [
    "## Training Algorithm\n",
    "1. Calculate the distance from x to all points in your data\n",
    "2. Sort the points in your data by increasing distance from x\n",
    "3. Predict the majority label of the \"k\" closest points."
   ]
  },
  {
   "cell_type": "code",
   "execution_count": null,
   "id": "374fc7d8-ed84-4c04-8a72-a915f31f2835",
   "metadata": {},
   "outputs": [],
   "source": []
  }
 ],
 "metadata": {
  "kernelspec": {
   "display_name": "Python [conda env:base] *",
   "language": "python",
   "name": "conda-base-py"
  },
  "language_info": {
   "codemirror_mode": {
    "name": "ipython",
    "version": 3
   },
   "file_extension": ".py",
   "mimetype": "text/x-python",
   "name": "python",
   "nbconvert_exporter": "python",
   "pygments_lexer": "ipython3",
   "version": "3.12.7"
  }
 },
 "nbformat": 4,
 "nbformat_minor": 5
}
